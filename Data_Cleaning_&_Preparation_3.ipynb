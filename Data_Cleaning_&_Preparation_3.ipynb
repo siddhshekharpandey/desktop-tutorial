{
  "nbformat": 4,
  "nbformat_minor": 0,
  "metadata": {
    "colab": {
      "provenance": [],
      "include_colab_link": true
    },
    "kernelspec": {
      "name": "python3",
      "display_name": "Python 3"
    },
    "language_info": {
      "name": "python"
    }
  },
  "cells": [
    {
      "cell_type": "markdown",
      "metadata": {
        "id": "view-in-github",
        "colab_type": "text"
      },
      "source": [
        "<a href=\"https://colab.research.google.com/github/siddhshekharpandey/desktop-tutorial/blob/main/Data_Cleaning_%26_Preparation_3.ipynb\" target=\"_parent\"><img src=\"https://colab.research.google.com/assets/colab-badge.svg\" alt=\"Open In Colab\"/></a>"
      ]
    },
    {
      "cell_type": "markdown",
      "source": [
        "#**Title: Data Cleaning & Preparation**"
      ],
      "metadata": {
        "id": "Cf4Ypa7buCXR"
      }
    },
    {
      "cell_type": "markdown",
      "source": [
        "#**Objective:-**\n",
        "**To clean and prepare a raw dataset for analysis by handling missing values, correcting data types, removing duplicates, and standardizing formats.**"
      ],
      "metadata": {
        "id": "pNkwJVUHus05"
      }
    },
    {
      "cell_type": "markdown",
      "source": [
        "#**Dataset:**\n",
        "**You can use any dataset with common data quality issues. For demonstration, we'll use a hypothetical CSV file named raw_data.csv.**"
      ],
      "metadata": {
        "id": "GVJvDxUrvXgx"
      }
    },
    {
      "cell_type": "markdown",
      "source": [
        "#**Steps Involved:**"
      ],
      "metadata": {
        "id": "24CAHXE-v9Of"
      }
    },
    {
      "cell_type": "markdown",
      "source": [
        "#**1. Load the Dataset**\n",
        "\n",
        "Read the CSV file using Pandas."
      ],
      "metadata": {
        "id": "ytC3ak3WtcfB"
      }
    },
    {
      "cell_type": "code",
      "source": [
        "import pandas as pd"
      ],
      "metadata": {
        "id": "ZXC0ixTiunxZ"
      },
      "execution_count": 110,
      "outputs": []
    },
    {
      "cell_type": "code",
      "source": [
        "# Load the dataset\n",
        "df = pd.read_csv(\"/content/healthcare-dataset-stroke-data.csv\")"
      ],
      "metadata": {
        "id": "9SyG7QVOy9S6"
      },
      "execution_count": 111,
      "outputs": []
    },
    {
      "cell_type": "code",
      "source": [
        "# Display basic info\n",
        "print(\"\\nDataset Info:\")\n",
        "print(df.info())"
      ],
      "metadata": {
        "colab": {
          "base_uri": "https://localhost:8080/"
        },
        "id": "2HgRQsMvzPCi",
        "outputId": "d72a850a-0a52-4b45-fe1d-928480f65458"
      },
      "execution_count": 112,
      "outputs": [
        {
          "output_type": "stream",
          "name": "stdout",
          "text": [
            "\n",
            "Dataset Info:\n",
            "<class 'pandas.core.frame.DataFrame'>\n",
            "RangeIndex: 5110 entries, 0 to 5109\n",
            "Data columns (total 12 columns):\n",
            " #   Column             Non-Null Count  Dtype  \n",
            "---  ------             --------------  -----  \n",
            " 0   id                 5110 non-null   int64  \n",
            " 1   gender             5110 non-null   object \n",
            " 2   age                5110 non-null   float64\n",
            " 3   hypertension       5110 non-null   int64  \n",
            " 4   heart_disease      5110 non-null   int64  \n",
            " 5   ever_married       5110 non-null   object \n",
            " 6   work_type          5110 non-null   object \n",
            " 7   Residence_type     5110 non-null   object \n",
            " 8   avg_glucose_level  5110 non-null   float64\n",
            " 9   bmi                4909 non-null   float64\n",
            " 10  smoking_status     5110 non-null   object \n",
            " 11  stroke             5110 non-null   int64  \n",
            "dtypes: float64(3), int64(4), object(5)\n",
            "memory usage: 479.2+ KB\n",
            "None\n"
          ]
        }
      ]
    },
    {
      "cell_type": "code",
      "source": [
        "# Display summary statistics\n",
        "print(\"\\nSummary Statistics:\")\n",
        "print(df.describe())\n"
      ],
      "metadata": {
        "colab": {
          "base_uri": "https://localhost:8080/"
        },
        "id": "JWEPYg3quujA",
        "outputId": "bc6968db-cd8d-4149-f139-9e45d8524875"
      },
      "execution_count": 113,
      "outputs": [
        {
          "output_type": "stream",
          "name": "stdout",
          "text": [
            "\n",
            "Summary Statistics:\n",
            "                 id          age  hypertension  heart_disease  \\\n",
            "count   5110.000000  5110.000000   5110.000000    5110.000000   \n",
            "mean   36517.829354    43.226614      0.097456       0.054012   \n",
            "std    21161.721625    22.612647      0.296607       0.226063   \n",
            "min       67.000000     0.080000      0.000000       0.000000   \n",
            "25%    17741.250000    25.000000      0.000000       0.000000   \n",
            "50%    36932.000000    45.000000      0.000000       0.000000   \n",
            "75%    54682.000000    61.000000      0.000000       0.000000   \n",
            "max    72940.000000    82.000000      1.000000       1.000000   \n",
            "\n",
            "       avg_glucose_level          bmi       stroke  \n",
            "count        5110.000000  4909.000000  5110.000000  \n",
            "mean          106.147677    28.893237     0.048728  \n",
            "std            45.283560     7.854067     0.215320  \n",
            "min            55.120000    10.300000     0.000000  \n",
            "25%            77.245000    23.500000     0.000000  \n",
            "50%            91.885000    28.100000     0.000000  \n",
            "75%           114.090000    33.100000     0.000000  \n",
            "max           271.740000    97.600000     1.000000  \n"
          ]
        }
      ]
    },
    {
      "cell_type": "markdown",
      "source": [
        "#**2. Explore the Data**\n",
        "\n",
        "Check for missing values, data types, and basic statistics."
      ],
      "metadata": {
        "id": "l8dkHKrGtnUW"
      }
    },
    {
      "cell_type": "code",
      "source": [
        "# Check first few rows\n",
        "print(\"First 5 rows:\\n\", df.head())"
      ],
      "metadata": {
        "colab": {
          "base_uri": "https://localhost:8080/"
        },
        "id": "aRjZd1Cbzbss",
        "outputId": "c98b17e5-fee0-4f44-b91c-48cda353a25e"
      },
      "execution_count": 114,
      "outputs": [
        {
          "output_type": "stream",
          "name": "stdout",
          "text": [
            "First 5 rows:\n",
            "       id  gender   age  hypertension  heart_disease ever_married  \\\n",
            "0   9046    Male  67.0             0              1          Yes   \n",
            "1  51676  Female  61.0             0              0          Yes   \n",
            "2  31112    Male  80.0             0              1          Yes   \n",
            "3  60182  Female  49.0             0              0          Yes   \n",
            "4   1665  Female  79.0             1              0          Yes   \n",
            "\n",
            "       work_type Residence_type  avg_glucose_level   bmi   smoking_status  \\\n",
            "0        Private          Urban             228.69  36.6  formerly smoked   \n",
            "1  Self-employed          Rural             202.21   NaN     never smoked   \n",
            "2        Private          Rural             105.92  32.5     never smoked   \n",
            "3        Private          Urban             171.23  34.4           smokes   \n",
            "4  Self-employed          Rural             174.12  24.0     never smoked   \n",
            "\n",
            "   stroke  \n",
            "0       1  \n",
            "1       1  \n",
            "2       1  \n",
            "3       1  \n",
            "4       1  \n"
          ]
        }
      ]
    },
    {
      "cell_type": "code",
      "source": [
        "# Check data types and non-null counts\n",
        "print(\"\\nData Types & Info:\")\n",
        "print(df.info())"
      ],
      "metadata": {
        "colab": {
          "base_uri": "https://localhost:8080/"
        },
        "id": "P8oo-nnxz2jJ",
        "outputId": "1c375ea3-1fa5-4a9e-c027-fda14c8b1ad4"
      },
      "execution_count": 115,
      "outputs": [
        {
          "output_type": "stream",
          "name": "stdout",
          "text": [
            "\n",
            "Data Types & Info:\n",
            "<class 'pandas.core.frame.DataFrame'>\n",
            "RangeIndex: 5110 entries, 0 to 5109\n",
            "Data columns (total 12 columns):\n",
            " #   Column             Non-Null Count  Dtype  \n",
            "---  ------             --------------  -----  \n",
            " 0   id                 5110 non-null   int64  \n",
            " 1   gender             5110 non-null   object \n",
            " 2   age                5110 non-null   float64\n",
            " 3   hypertension       5110 non-null   int64  \n",
            " 4   heart_disease      5110 non-null   int64  \n",
            " 5   ever_married       5110 non-null   object \n",
            " 6   work_type          5110 non-null   object \n",
            " 7   Residence_type     5110 non-null   object \n",
            " 8   avg_glucose_level  5110 non-null   float64\n",
            " 9   bmi                4909 non-null   float64\n",
            " 10  smoking_status     5110 non-null   object \n",
            " 11  stroke             5110 non-null   int64  \n",
            "dtypes: float64(3), int64(4), object(5)\n",
            "memory usage: 479.2+ KB\n",
            "None\n"
          ]
        }
      ]
    },
    {
      "cell_type": "code",
      "source": [
        "# Check missing values\n",
        "print(\"\\nMissing Values in Each Column:\")\n",
        "print(df.isnull().sum())"
      ],
      "metadata": {
        "colab": {
          "base_uri": "https://localhost:8080/"
        },
        "id": "UkqBZLrE0Gz1",
        "outputId": "89020110-87bf-4d9c-a5fa-97555a903fd0"
      },
      "execution_count": 116,
      "outputs": [
        {
          "output_type": "stream",
          "name": "stdout",
          "text": [
            "\n",
            "Missing Values in Each Column:\n",
            "id                     0\n",
            "gender                 0\n",
            "age                    0\n",
            "hypertension           0\n",
            "heart_disease          0\n",
            "ever_married           0\n",
            "work_type              0\n",
            "Residence_type         0\n",
            "avg_glucose_level      0\n",
            "bmi                  201\n",
            "smoking_status         0\n",
            "stroke                 0\n",
            "dtype: int64\n"
          ]
        }
      ]
    },
    {
      "cell_type": "code",
      "source": [
        "# Get basic statistics (numerical columns)\n",
        "print(\"\\nBasic Statistics:\")\n",
        "print(df.describe())"
      ],
      "metadata": {
        "colab": {
          "base_uri": "https://localhost:8080/"
        },
        "id": "k_yOOHJ20Mrd",
        "outputId": "11df13bb-7d57-4174-f85a-0db53c232a4f"
      },
      "execution_count": 117,
      "outputs": [
        {
          "output_type": "stream",
          "name": "stdout",
          "text": [
            "\n",
            "Basic Statistics:\n",
            "                 id          age  hypertension  heart_disease  \\\n",
            "count   5110.000000  5110.000000   5110.000000    5110.000000   \n",
            "mean   36517.829354    43.226614      0.097456       0.054012   \n",
            "std    21161.721625    22.612647      0.296607       0.226063   \n",
            "min       67.000000     0.080000      0.000000       0.000000   \n",
            "25%    17741.250000    25.000000      0.000000       0.000000   \n",
            "50%    36932.000000    45.000000      0.000000       0.000000   \n",
            "75%    54682.000000    61.000000      0.000000       0.000000   \n",
            "max    72940.000000    82.000000      1.000000       1.000000   \n",
            "\n",
            "       avg_glucose_level          bmi       stroke  \n",
            "count        5110.000000  4909.000000  5110.000000  \n",
            "mean          106.147677    28.893237     0.048728  \n",
            "std            45.283560     7.854067     0.215320  \n",
            "min            55.120000    10.300000     0.000000  \n",
            "25%            77.245000    23.500000     0.000000  \n",
            "50%            91.885000    28.100000     0.000000  \n",
            "75%           114.090000    33.100000     0.000000  \n",
            "max           271.740000    97.600000     1.000000  \n"
          ]
        }
      ]
    },
    {
      "cell_type": "code",
      "source": [
        "# Check column names\n",
        "print(\"\\nColumn Names:\")\n",
        "print(df.columns.tolist())\n"
      ],
      "metadata": {
        "colab": {
          "base_uri": "https://localhost:8080/"
        },
        "id": "Z7txBCFew51D",
        "outputId": "7d7511f6-c8db-4111-df21-f5266bf4db38"
      },
      "execution_count": 118,
      "outputs": [
        {
          "output_type": "stream",
          "name": "stdout",
          "text": [
            "\n",
            "Column Names:\n",
            "['id', 'gender', 'age', 'hypertension', 'heart_disease', 'ever_married', 'work_type', 'Residence_type', 'avg_glucose_level', 'bmi', 'smoking_status', 'stroke']\n"
          ]
        }
      ]
    },
    {
      "cell_type": "markdown",
      "source": [
        "#**3. Handle Missing Values**\n",
        "\n",
        "Fill or drop missing values based on context."
      ],
      "metadata": {
        "id": "J4MVEtRXtvSQ"
      }
    },
    {
      "cell_type": "code",
      "source": [
        "# Check missing values before handling\n",
        "print(\"Missing Values Before Handling:\\n\", df.isnull().sum())"
      ],
      "metadata": {
        "colab": {
          "base_uri": "https://localhost:8080/"
        },
        "id": "SToVNSfh0jG6",
        "outputId": "a6569243-5042-448f-d180-9a06207c9ce2"
      },
      "execution_count": 119,
      "outputs": [
        {
          "output_type": "stream",
          "name": "stdout",
          "text": [
            "Missing Values Before Handling:\n",
            " id                     0\n",
            "gender                 0\n",
            "age                    0\n",
            "hypertension           0\n",
            "heart_disease          0\n",
            "ever_married           0\n",
            "work_type              0\n",
            "Residence_type         0\n",
            "avg_glucose_level      0\n",
            "bmi                  201\n",
            "smoking_status         0\n",
            "stroke                 0\n",
            "dtype: int64\n"
          ]
        }
      ]
    },
    {
      "cell_type": "code",
      "source": [
        "#  1: Fill missing values in numerical columns with mean\n",
        "df['bmi'] = df['bmi'].fillna(df['bmi'].mean())"
      ],
      "metadata": {
        "id": "LaOSEvt60l3z"
      },
      "execution_count": 120,
      "outputs": []
    },
    {
      "cell_type": "code",
      "source": [
        "# 2: Fill missing categorical values with mode (most frequent value)\n",
        "if df['smoking_status'].isnull().sum() > 0:\n",
        "    df['smoking_status'] = df['smoking_status'].fillna(df['smoking_status'].mode()[0])"
      ],
      "metadata": {
        "id": "VSooRbwS0z2V"
      },
      "execution_count": 121,
      "outputs": []
    },
    {
      "cell_type": "code",
      "source": [
        "#  3: Drop rows if too many missing values (optional)\n",
        "df = df.dropna(thresh=len(df.columns)-2)  # keep rows with at least all but 2 columns non-null"
      ],
      "metadata": {
        "id": "l7leS7CD06T9"
      },
      "execution_count": 122,
      "outputs": []
    },
    {
      "cell_type": "code",
      "source": [
        "# Check missing values after handling\n",
        "print(\"\\nMissing Values After Handling:\\n\", df.isnull().sum())\n"
      ],
      "metadata": {
        "colab": {
          "base_uri": "https://localhost:8080/"
        },
        "id": "MKJLPzABx9Eq",
        "outputId": "ba646248-f615-408c-e0bd-d5a228e4a9a7"
      },
      "execution_count": 123,
      "outputs": [
        {
          "output_type": "stream",
          "name": "stdout",
          "text": [
            "\n",
            "Missing Values After Handling:\n",
            " id                   0\n",
            "gender               0\n",
            "age                  0\n",
            "hypertension         0\n",
            "heart_disease        0\n",
            "ever_married         0\n",
            "work_type            0\n",
            "Residence_type       0\n",
            "avg_glucose_level    0\n",
            "bmi                  0\n",
            "smoking_status       0\n",
            "stroke               0\n",
            "dtype: int64\n"
          ]
        }
      ]
    },
    {
      "cell_type": "markdown",
      "source": [
        "#**4. Fix Data Types**\n",
        "\n",
        "Convert columns to appropriate types (e.g., dates, integers)"
      ],
      "metadata": {
        "id": "dHGA-1G5t3hl"
      }
    },
    {
      "cell_type": "code",
      "source": [
        "# Show original data types\n",
        "print(\"Original Data Types:\\n\", df.dtypes)"
      ],
      "metadata": {
        "colab": {
          "base_uri": "https://localhost:8080/"
        },
        "id": "pV4Nd2zU17yE",
        "outputId": "89aec11d-b845-4d8f-ca89-4099f6ab99c3"
      },
      "execution_count": 124,
      "outputs": [
        {
          "output_type": "stream",
          "name": "stdout",
          "text": [
            "Original Data Types:\n",
            " id                     int64\n",
            "gender                object\n",
            "age                  float64\n",
            "hypertension           int64\n",
            "heart_disease          int64\n",
            "ever_married          object\n",
            "work_type             object\n",
            "Residence_type        object\n",
            "avg_glucose_level    float64\n",
            "bmi                  float64\n",
            "smoking_status        object\n",
            "stroke                 int64\n",
            "dtype: object\n"
          ]
        }
      ]
    },
    {
      "cell_type": "markdown",
      "source": [
        "# Example conversions"
      ],
      "metadata": {
        "id": "ItR3E1PF2Cid"
      }
    },
    {
      "cell_type": "code",
      "source": [
        "# 1. Convert categorical-like columns to category type\n",
        "categorical_cols = ['gender', 'ever_married', 'work_type', 'Residence_type', 'smoking_status']\n",
        "for col in categorical_cols:\n",
        "    df[col] = df[col].astype('category')"
      ],
      "metadata": {
        "id": "PF0mUNUp17r9"
      },
      "execution_count": 125,
      "outputs": []
    },
    {
      "cell_type": "code",
      "source": [
        "# 2. Convert integer-like float columns to int (if no missing values left)\n",
        "if df['bmi'].isnull().sum() == 0:  # ensure no missing values remain\n",
        "    df['bmi'] = df['bmi'].astype(float)   # keep as float (BMI usually decimal)\n",
        "\n",
        "df['age'] = df['age'].astype(int)  # age should be integer\n"
      ],
      "metadata": {
        "id": "h11fpHFr2hus"
      },
      "execution_count": 126,
      "outputs": []
    },
    {
      "cell_type": "code",
      "source": [
        "# 3. Convert binary columns (0/1) to boolean if needed\n",
        "df['hypertension'] = df['hypertension'].astype(bool)\n",
        "df['heart_disease'] = df['heart_disease'].astype(bool)\n",
        "df['stroke'] = df['stroke'].astype(bool)"
      ],
      "metadata": {
        "id": "dzjSJaZTyPPp"
      },
      "execution_count": 127,
      "outputs": []
    },
    {
      "cell_type": "code",
      "source": [
        "# Show updated data types\n",
        "print(\"\\nUpdated Data Types:\\n\", df.dtypes)"
      ],
      "metadata": {
        "colab": {
          "base_uri": "https://localhost:8080/"
        },
        "id": "Rxy99A872t6f",
        "outputId": "16c3b18f-224e-4f73-d8f8-9e65842fb70b"
      },
      "execution_count": 128,
      "outputs": [
        {
          "output_type": "stream",
          "name": "stdout",
          "text": [
            "\n",
            "Updated Data Types:\n",
            " id                      int64\n",
            "gender               category\n",
            "age                     int64\n",
            "hypertension             bool\n",
            "heart_disease            bool\n",
            "ever_married         category\n",
            "work_type            category\n",
            "Residence_type       category\n",
            "avg_glucose_level     float64\n",
            "bmi                   float64\n",
            "smoking_status       category\n",
            "stroke                   bool\n",
            "dtype: object\n"
          ]
        }
      ]
    },
    {
      "cell_type": "markdown",
      "source": [
        "#**5. Remove Duplicates**\n",
        "\n",
        "Identify and drop duplicate rows."
      ],
      "metadata": {
        "id": "rF2Sy9VAuEVv"
      }
    },
    {
      "cell_type": "code",
      "source": [
        "# Check shape before removing duplicates\n",
        "print(\"Shape before removing duplicates:\", df.shape)"
      ],
      "metadata": {
        "colab": {
          "base_uri": "https://localhost:8080/"
        },
        "id": "1jQyivri3jwJ",
        "outputId": "c9bd5861-b307-497c-d589-3a3f417bf803"
      },
      "execution_count": 129,
      "outputs": [
        {
          "output_type": "stream",
          "name": "stdout",
          "text": [
            "Shape before removing duplicates: (5110, 12)\n"
          ]
        }
      ]
    },
    {
      "cell_type": "code",
      "source": [
        "# Find duplicate rows\n",
        "duplicates = df[df.duplicated()]\n",
        "print(\"\\nNumber of duplicate rows:\", duplicates.shape[0])"
      ],
      "metadata": {
        "colab": {
          "base_uri": "https://localhost:8080/"
        },
        "id": "aiIJHgR13jhl",
        "outputId": "805b66cb-e55c-47b5-f978-8a6458356224"
      },
      "execution_count": 130,
      "outputs": [
        {
          "output_type": "stream",
          "name": "stdout",
          "text": [
            "\n",
            "Number of duplicate rows: 0\n"
          ]
        }
      ]
    },
    {
      "cell_type": "code",
      "source": [
        "# Drop duplicate rows\n",
        "df = df.drop_duplicates()"
      ],
      "metadata": {
        "id": "8mzNfumG3jMF"
      },
      "execution_count": 131,
      "outputs": []
    },
    {
      "cell_type": "code",
      "source": [
        "# Check shape after removing duplicates\n",
        "print(\"Shape after removing duplicates:\", df.shape)"
      ],
      "metadata": {
        "colab": {
          "base_uri": "https://localhost:8080/"
        },
        "id": "AxjMHkgI3Tlj",
        "outputId": "23d8e640-dd43-499e-f726-e06bacc52d5c"
      },
      "execution_count": 132,
      "outputs": [
        {
          "output_type": "stream",
          "name": "stdout",
          "text": [
            "Shape after removing duplicates: (5110, 12)\n"
          ]
        }
      ]
    },
    {
      "cell_type": "markdown",
      "source": [
        "#**6. Standardize Text Data**\n",
        "\n",
        "Strip whitespace, convert to lowercase, fix typos."
      ],
      "metadata": {
        "id": "xYXbN0bHuQJR"
      }
    },
    {
      "cell_type": "code",
      "source": [
        "#  Text columns to clean\n",
        "text_cols = ['gender', 'ever_married', 'work_type', 'Residence_type', 'smoking_status']\n"
      ],
      "metadata": {
        "id": "ngg1USaW5Do6"
      },
      "execution_count": 133,
      "outputs": []
    },
    {
      "cell_type": "code",
      "source": [
        "# 1. Strip whitespace & convert to lowercase\n",
        "for col in text_cols:\n",
        "    df[col] = df[col].astype(str).str.strip().str.lower()"
      ],
      "metadata": {
        "id": "KN_mIg9H5L8H"
      },
      "execution_count": 134,
      "outputs": []
    },
    {
      "cell_type": "code",
      "source": [
        "# 2. Fix common typos / inconsistent labels\n",
        "# Gender column\n",
        "df['gender'] = df['gender'].replace({'female': 'female', 'male': 'male', 'other': 'other'})"
      ],
      "metadata": {
        "id": "jV6xFs2c5Xhr"
      },
      "execution_count": 135,
      "outputs": []
    },
    {
      "cell_type": "code",
      "source": [
        "# ever_married column\n",
        "df['ever_married'] = df['ever_married'].replace({'yes': 'yes', 'no': 'no'})\n"
      ],
      "metadata": {
        "id": "iTvpSmdv5ey4"
      },
      "execution_count": 136,
      "outputs": []
    },
    {
      "cell_type": "code",
      "source": [
        "# work_type column\n",
        "df['work_type'] = df['work_type'].replace({\n",
        "    'private': 'private',\n",
        "    'self-employed': 'self_employed',\n",
        "    'govt_job': 'govt_job',\n",
        "    'children': 'children',\n",
        "    'never_worked': 'never_worked'\n",
        "})\n"
      ],
      "metadata": {
        "id": "-pNcV1qS5lov"
      },
      "execution_count": 137,
      "outputs": []
    },
    {
      "cell_type": "code",
      "source": [
        "# Fix common typos / inconsistent labels\n",
        "df['Residence_type'] = df['Residence_type'].replace({\n",
        "    'urban': 'urban',\n",
        "    'rural': 'rural'\n",
        "})"
      ],
      "metadata": {
        "id": "rTLuEVX--fPU"
      },
      "execution_count": 138,
      "outputs": []
    },
    {
      "cell_type": "code",
      "source": [
        "# smoking_status column\n",
        "df['smoking_status'] = df['smoking_status'].replace({\n",
        "    'formerly smoked': 'formerly_smoked',\n",
        "    'never smoked': 'never_smoked',\n",
        "    'smokes': 'smokes',\n",
        "    'unknown': 'unknown'\n",
        "})"
      ],
      "metadata": {
        "id": "oS36Alw88Oqy"
      },
      "execution_count": 139,
      "outputs": []
    },
    {
      "cell_type": "code",
      "source": [
        "# Preview cleaned data\n",
        "print(df[text_cols].head())\n"
      ],
      "metadata": {
        "colab": {
          "base_uri": "https://localhost:8080/"
        },
        "id": "KUOQGPD2-4Ey",
        "outputId": "585fbb69-5c8c-44b2-929e-5f1fa6e2f085"
      },
      "execution_count": 140,
      "outputs": [
        {
          "output_type": "stream",
          "name": "stdout",
          "text": [
            "   gender ever_married      work_type Residence_type   smoking_status\n",
            "0    male          yes        private          urban  formerly_smoked\n",
            "1  female          yes  self_employed          rural     never_smoked\n",
            "2    male          yes        private          rural     never_smoked\n",
            "3  female          yes        private          urban           smokes\n",
            "4  female          yes  self_employed          rural     never_smoked\n"
          ]
        }
      ]
    },
    {
      "cell_type": "markdown",
      "source": [
        "#**7. Feature Engineering (Optional)**\n",
        "\n",
        "Create new columns or transform existing ones."
      ],
      "metadata": {
        "id": "shHpWMyjwCGt"
      }
    },
    {
      "cell_type": "code",
      "source": [
        "# 1. Create Age Groups\n",
        "\n",
        "df['age_group'] = pd.cut(df['age'],\n",
        "                         bins=[0, 12, 18, 35, 50, 65, 100],\n",
        "                         labels=['child', 'teen', 'young_adult', 'adult', 'middle_age', 'senior'])\n"
      ],
      "metadata": {
        "id": "oWlyYY8tApZJ"
      },
      "execution_count": 141,
      "outputs": []
    },
    {
      "cell_type": "code",
      "source": [
        "# 2. Create BMI Category\n",
        "df['bmi_category'] = pd.cut(df['bmi'],\n",
        "                            bins=[0, 18.5, 24.9, 29.9, 100],\n",
        "                            labels=['underweight', 'normal', 'overweight', 'obese'])\n"
      ],
      "metadata": {
        "id": "z5XD-ZciAyZ0"
      },
      "execution_count": 142,
      "outputs": []
    },
    {
      "cell_type": "code",
      "source": [
        "# 3. Combine Hypertension & Heart Disease\n",
        "\n",
        "df['cardio_risk'] = df['hypertension'] + df['heart_disease']\n",
        "df['cardio_risk'] = df['cardio_risk'].apply(lambda x: 'high' if x > 0 else 'low')"
      ],
      "metadata": {
        "id": "aafQZeO8Ca68"
      },
      "execution_count": 143,
      "outputs": []
    },
    {
      "cell_type": "code",
      "source": [
        "# 4. Create a Binary Feature for Marriage\n",
        "\n",
        "df['is_married'] = df['ever_married'].apply(lambda x: 1 if str(x).lower() == 'yes' else 0)\n"
      ],
      "metadata": {
        "id": "fyydIL-kCm2z"
      },
      "execution_count": 144,
      "outputs": []
    },
    {
      "cell_type": "code",
      "source": [
        "# 5. BMI/Age Ratio (custom feature)\n",
        "\n",
        "df['bmi_age_ratio'] = df['bmi'] / (df['age'] + 1)   # +1 to avoid division by zero\n"
      ],
      "metadata": {
        "id": "kFdUmvi1C9dh"
      },
      "execution_count": 145,
      "outputs": []
    },
    {
      "cell_type": "code",
      "source": [
        "# Preview new features\n",
        "\n",
        "print(df[['age', 'age_group', 'bmi', 'bmi_category', 'cardio_risk', 'is_married', 'bmi_age_ratio']].head())\n"
      ],
      "metadata": {
        "id": "jdRtU5pNxEns",
        "colab": {
          "base_uri": "https://localhost:8080/"
        },
        "outputId": "c87fe273-0a8b-40f4-a22d-afcf9b2dfa45"
      },
      "execution_count": 146,
      "outputs": [
        {
          "output_type": "stream",
          "name": "stdout",
          "text": [
            "   age   age_group        bmi bmi_category cardio_risk  is_married  \\\n",
            "0   67      senior  36.600000        obese        high           1   \n",
            "1   61  middle_age  28.893237   overweight         low           1   \n",
            "2   80      senior  32.500000        obese        high           1   \n",
            "3   49       adult  34.400000        obese         low           1   \n",
            "4   79      senior  24.000000       normal        high           1   \n",
            "\n",
            "   bmi_age_ratio  \n",
            "0       0.538235  \n",
            "1       0.466020  \n",
            "2       0.401235  \n",
            "3       0.688000  \n",
            "4       0.300000  \n"
          ]
        }
      ]
    },
    {
      "cell_type": "code",
      "source": [],
      "metadata": {
        "id": "CLIMvsRZ_xS4"
      },
      "execution_count": 146,
      "outputs": []
    }
  ]
}