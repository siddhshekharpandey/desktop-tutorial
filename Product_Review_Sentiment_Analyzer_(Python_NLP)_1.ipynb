{
  "nbformat": 4,
  "nbformat_minor": 0,
  "metadata": {
    "colab": {
      "provenance": []
    },
    "kernelspec": {
      "name": "python3",
      "display_name": "Python 3"
    },
    "language_info": {
      "name": "python"
    }
  },
  "cells": [
    {
      "cell_type": "markdown",
      "source": [
        "#**Product Review Sentiment Analyzer (Python NLP)**"
      ],
      "metadata": {
        "id": "XVIPOhKeDVK1"
      }
    },
    {
      "cell_type": "markdown",
      "source": [
        "**Summary:- Use Natural Language Processing to analyze and classify customer reviewsfrom an\n",
        "online store.**"
      ],
      "metadata": {
        "id": "yPwrezvvD0K0"
      }
    },
    {
      "cell_type": "markdown",
      "source": [
        "**Question:- How can we classify product reviews as positive or negative using text analysis?**"
      ],
      "metadata": {
        "id": "cQPjJ0_GEO7n"
      }
    },
    {
      "cell_type": "markdown",
      "source": [
        "**Description:-  Apply sentiment analysis using Python’s TextBlob or VADER on sample review text\n",
        "and generate polarity score.**"
      ],
      "metadata": {
        "id": "K8RfuJdXFAy-"
      }
    },
    {
      "cell_type": "markdown",
      "source": [
        "#**Read reviewsfrom CSV**"
      ],
      "metadata": {
        "id": "MAvZrcAmQhWb"
      }
    },
    {
      "cell_type": "code",
      "source": [
        "import pandas as pd #importing libraries"
      ],
      "metadata": {
        "id": "ql_rSGGFIiqC"
      },
      "execution_count": 11,
      "outputs": []
    },
    {
      "cell_type": "code",
      "source": [
        "#Create dictionary using dict() constructor\n",
        "data={\n",
        "    \"Review_ID\":['R001','R002'],\n",
        "    \"Review_Text\":['Review_Text','Waste of money'],\n",
        "    \"Sentiment\":['Positive','Negative']\n",
        "}\n",
        "\n",
        "# create DataFrame\n",
        "df=pd.DataFrame(data)\n",
        "\n",
        "# Writing the DataFrime to a CSV file\n",
        "df.to_csv('reviews.csv',index=False)"
      ],
      "metadata": {
        "id": "q00nf5gAGuig"
      },
      "execution_count": 19,
      "outputs": []
    },
    {
      "cell_type": "code",
      "source": [
        "# Reading a CSV file\n",
        "df=pd.read_csv('reviews.csv')\n",
        "print(df.head())"
      ],
      "metadata": {
        "colab": {
          "base_uri": "https://localhost:8080/"
        },
        "id": "Ne2BmuAMIFHI",
        "outputId": "81843061-2a45-4b2e-f695-64a768b69edd"
      },
      "execution_count": 23,
      "outputs": [
        {
          "output_type": "stream",
          "name": "stdout",
          "text": [
            "  Review_ID     Review_Text Sentiment\n",
            "0      R001     Review_Text  Positive\n",
            "1      R002  Waste of money  Negative\n"
          ]
        }
      ]
    },
    {
      "cell_type": "markdown",
      "source": [
        "# **Use TextBlob to calculate sentiment polarity**"
      ],
      "metadata": {
        "id": "HYm5-cSPR5rq"
      }
    },
    {
      "cell_type": "code",
      "source": [
        "#import library\n",
        "from textblob import TextBlob"
      ],
      "metadata": {
        "id": "xQ1S7qHnVtOo"
      },
      "execution_count": 28,
      "outputs": []
    },
    {
      "cell_type": "code",
      "source": [
        "# Function to get polarity using TextBlob\n",
        "def get_polarity(text):\n",
        "    return TextBlob(text).sentiment.polarity\n",
        "\n",
        "# Apply the function to the Review_Text column\n",
        "df['Polarity'] = df['Review_Text'].apply(get_polarity)\n",
        "\n",
        "print(df)"
      ],
      "metadata": {
        "colab": {
          "base_uri": "https://localhost:8080/"
        },
        "id": "4nB8zKWxVQQ2",
        "outputId": "63c71bc7-a406-46ef-b75b-7c9951bc62cc"
      },
      "execution_count": 33,
      "outputs": [
        {
          "output_type": "stream",
          "name": "stdout",
          "text": [
            "  Review_ID     Review_Text Sentiment  Polarity\n",
            "0      R001     Review_Text  Positive       0.0\n",
            "1      R002  Waste of money  Negative      -0.2\n"
          ]
        }
      ]
    },
    {
      "cell_type": "markdown",
      "source": [
        "# **Classify as Positive, Neutral, or Negative**"
      ],
      "metadata": {
        "id": "qISKAfovXRL4"
      }
    },
    {
      "cell_type": "code",
      "source": [
        "# Function to classify sentiment based on polarity\n",
        "def classify_sentiment(polarity):\n",
        "    if polarity > 0:\n",
        "        return 'Positive'\n",
        "    elif polarity == 0:\n",
        "        return 'Neutral'\n",
        "    else:\n",
        "        return 'Negative'\n",
        "\n",
        "# Calculate polarity\n",
        "df['Polarity'] = df['Review_Text'].apply(get_polarity)\n",
        "\n",
        "# Classify as Positive, Neutral, or Negative\n",
        "df['Predicted_Sentiment'] = df['Polarity'].apply(classify_sentiment)\n",
        "\n",
        "print(df)"
      ],
      "metadata": {
        "colab": {
          "base_uri": "https://localhost:8080/"
        },
        "id": "l5XY1NfvcZna",
        "outputId": "91e02a05-b245-47a6-892b-5782fc83840f"
      },
      "execution_count": 50,
      "outputs": [
        {
          "output_type": "stream",
          "name": "stdout",
          "text": [
            "  Review_ID     Review_Text Sentiment  Polarity Predicted_Sentiment\n",
            "0      R001     Review_Text  Positive       0.0             Neutral\n",
            "1      R002  Waste of money  Negative      -0.2            Negative\n"
          ]
        }
      ]
    },
    {
      "cell_type": "markdown",
      "source": [
        "# **Visualize distribution using pie chart**"
      ],
      "metadata": {
        "id": "PrFevNhKZrFL"
      }
    },
    {
      "cell_type": "code",
      "source": [
        "import matplotlib.pyplot as plt"
      ],
      "metadata": {
        "id": "Lh4DoMmAZE26"
      },
      "execution_count": 39,
      "outputs": []
    },
    {
      "cell_type": "code",
      "source": [
        "# Calculate counts\n",
        "sentiment_counts = df['Predicted_Sentiment'].value_counts()\n",
        "\n",
        "# Plot pie chart\n",
        "plt.figure(figsize=(8, 6))\n",
        "plt.pie(sentiment_counts, labels=sentiment_counts.index, autopct='%1.1f%%')\n",
        "plt.title('Sentiment Distribution of Reviews')\n",
        "plt.axis('equal')\n",
        "plt.show()\n"
      ],
      "metadata": {
        "colab": {
          "base_uri": "https://localhost:8080/",
          "height": 528
        },
        "id": "LdCLI4W3XI1i",
        "outputId": "1e7a4777-776c-43a4-8057-091377efd04d"
      },
      "execution_count": 61,
      "outputs": [
        {
          "output_type": "display_data",
          "data": {
            "text/plain": [
              "<Figure size 800x600 with 1 Axes>"
            ],
            "image/png": "[encoded data removed]"
          },
          "metadata": {}
        }
      ]
    },
    {
      "cell_type": "code",
      "source": [],
      "metadata": {
        "id": "v7rP92Y8hG8Z"
      },
      "execution_count": null,
      "outputs": []
    }
  ]
}